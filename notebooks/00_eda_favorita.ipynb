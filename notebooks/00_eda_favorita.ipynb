{
 "cells": [
  {"cell_type": "markdown","metadata": {},"source": ["# 00 EDA Favorita"]},
  {"cell_type": "code","execution_count": null,"metadata": {},"outputs": [],"source": ["print('Hello Capstone 🎉')"]}
 ],
 "metadata": {"kernelspec": {"display_name": "Python 3","language": "python","name": "python3"}},
 "nbformat": 4,
 "nbformat_minor": 5
}
